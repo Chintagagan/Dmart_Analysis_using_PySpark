{
 "cells": [
  {
   "cell_type": "code",
   "execution_count": 1,
   "id": "4cb61323-f657-421c-980f-4624d1a86965",
   "metadata": {},
   "outputs": [
    {
     "name": "stdout",
     "output_type": "stream",
     "text": [
      "Requirement already satisfied: pyspark in c:\\users\\gagan\\appdata\\local\\programs\\python\\python312\\lib\\site-packages (3.5.3)\n",
      "Requirement already satisfied: py4j==0.10.9.7 in c:\\users\\gagan\\appdata\\local\\programs\\python\\python312\\lib\\site-packages (from pyspark) (0.10.9.7)\n"
     ]
    }
   ],
   "source": [
    "!pip install pyspark\n"
   ]
  },
  {
   "cell_type": "code",
   "execution_count": 2,
   "id": "a48a3ac9-aa61-4dd0-90b8-6a4210baaba6",
   "metadata": {},
   "outputs": [],
   "source": [
    "from pyspark.sql import SparkSession\n",
    "\n",
    "spark = SparkSession.builder \\\n",
    "    .appName(\"SalesDataAnalysis\") \\\n",
    "    .getOrCreate()\n"
   ]
  },
  {
   "cell_type": "code",
   "execution_count": 3,
   "id": "83386546-481a-4e19-967d-a1419b9a2293",
   "metadata": {},
   "outputs": [],
   "source": [
    "product_path = \"C:/Users/Gagan/Desktop/Projects DE/Project_5/product.csv\"\n",
    "sales_path = \"C:/Users/Gagan/Desktop/Projects DE/Project_5/sales.csv\"\n",
    "customer_path = \"C:/Users/Gagan/Desktop/Projects DE/Project_5/customer.csv\"\n"
   ]
  },
  {
   "cell_type": "code",
   "execution_count": 4,
   "id": "5f5d6a9e-50ff-48e1-aafe-99f5d3a6ed19",
   "metadata": {},
   "outputs": [],
   "source": [
    "products_df = spark.read.csv(product_path, header=True, inferSchema=True)\n",
    "sales_df = spark.read.csv(sales_path, header=True, inferSchema=True)\n",
    "customer_df = spark.read.csv(customer_path, header=True, inferSchema=True)\n"
   ]
  },
  {
   "cell_type": "code",
   "execution_count": 5,
   "id": "1d88882c-b21e-41e4-8686-0837ec6f4da3",
   "metadata": {},
   "outputs": [],
   "source": [
    "# Fill missing values with default values if necessary\n",
    "products_df = products_df.na.fill({\"Category\": \"Unknown\"})\n",
    "sales_df = sales_df.na.drop()\n",
    "customer_df = customer_df.na.fill({\"Age\": 0})\n"
   ]
  },
  {
   "cell_type": "code",
   "execution_count": 19,
   "id": "08646d16-62ab-4267-9eff-8d7e94dfd13b",
   "metadata": {},
   "outputs": [],
   "source": [
    "from pyspark.sql.types import IntegerType, DoubleType\n",
    "\n",
    "sales_df = sales_df.withColumn(\"Quantity\", sales_df[\"Quantity\"].cast(IntegerType()))\n",
    "sales_df = sales_df.withColumn(\"Discount\", sales_df[\"Discount\"].cast(DoubleType()))\n"
   ]
  },
  {
   "cell_type": "code",
   "execution_count": 20,
   "id": "04a471fe-b57a-4e18-bea4-75e607ca8e8e",
   "metadata": {},
   "outputs": [],
   "source": [
    "sales_products_df = sales_df.join(products_df, on=\"Product ID\", how=\"inner\")\n",
    "full_df = sales_products_df.join(customer_df, on=\"Customer ID\", how=\"inner\")\n"
   ]
  },
  {
   "cell_type": "code",
   "execution_count": 8,
   "id": "47e51382-2e86-4862-98b4-7a70801379f5",
   "metadata": {},
   "outputs": [
    {
     "name": "stdout",
     "output_type": "stream",
     "text": [
      "+-----------+---------------+----------+--------------+----------+----------+--------------+--------+--------+--------+--------+---------------+------------+--------------------+------------------+-----------+---+-------------+---------------+--------------+-----------+-------+\n",
      "|Customer ID|     Product ID|Order Line|      Order ID|Order Date| Ship Date|     Ship Mode|   Sales|Quantity|Discount|  Profit|       Category|Sub-Category|        Product Name|     Customer Name|    Segment|Age|      Country|           City|         State|Postal Code| Region|\n",
      "+-----------+---------------+----------+--------------+----------+----------+--------------+--------+--------+--------+--------+---------------+------------+--------------------+------------------+-----------+---+-------------+---------------+--------------+-----------+-------+\n",
      "|   CG-12520|FUR-BO-10001798|         1|CA-2016-152156| 11/8/2016|11/11/2016|  Second Class|  261.96|       2|     0.0| 41.9136|      Furniture|   Bookcases|Bush Somerset Col...|       Claire Gute|   Consumer| 67|United States|      Henderson|      Kentucky|      42420|  South|\n",
      "|   CG-12520|FUR-CH-10000454|         2|CA-2016-152156| 11/8/2016|11/11/2016|  Second Class|  731.94|       3|     0.0| 219.582|      Furniture|      Chairs|Hon Deluxe Fabric...|       Claire Gute|   Consumer| 67|United States|      Henderson|      Kentucky|      42420|  South|\n",
      "|   DV-13045|OFF-LA-10000240|         3|CA-2016-138688| 6/12/2016| 6/16/2016|  Second Class|   14.62|       2|     0.0|  6.8714|Office Supplies|      Labels|Self-Adhesive Add...|   Darrin Van Huff|  Corporate| 31|United States|    Los Angeles|    California|      90036|   West|\n",
      "|   SO-20335|FUR-TA-10000577|         4|US-2015-108966|10/11/2015|10/18/2015|Standard Class|957.5775|       5|    0.45|-383.031|      Furniture|      Tables|Bretford CR4500 S...|    Sean O'Donnell|   Consumer| 65|United States|Fort Lauderdale|       Florida|      33311|  South|\n",
      "|   SO-20335|OFF-ST-10000760|         5|US-2015-108966|10/11/2015|10/18/2015|Standard Class|  22.368|       2|     0.2|  2.5164|Office Supplies|     Storage|Eldon Fold N Roll...|    Sean O'Donnell|   Consumer| 65|United States|Fort Lauderdale|       Florida|      33311|  South|\n",
      "|   BH-11710|FUR-FU-10001487|         6|CA-2014-115812|  6/9/2014| 6/14/2014|Standard Class|   48.86|       7|     0.0| 14.1694|      Furniture| Furnishings|Eldon Expressions...|   Brosina Hoffman|   Consumer| 20|United States|    Los Angeles|    California|      90032|   West|\n",
      "|   BH-11710|OFF-AR-10002833|         7|CA-2014-115812|  6/9/2014| 6/14/2014|Standard Class|    7.28|       4|     0.0|  1.9656|Office Supplies|         Art|          Newell 322|   Brosina Hoffman|   Consumer| 20|United States|    Los Angeles|    California|      90032|   West|\n",
      "|   BH-11710|TEC-PH-10002275|         8|CA-2014-115812|  6/9/2014| 6/14/2014|Standard Class| 907.152|       6|     0.2| 90.7152|     Technology|      Phones|Mitel 5320 IP Pho...|   Brosina Hoffman|   Consumer| 20|United States|    Los Angeles|    California|      90032|   West|\n",
      "|   BH-11710|OFF-BI-10003910|         9|CA-2014-115812|  6/9/2014| 6/14/2014|Standard Class|  18.504|       3|     0.2|  5.7825|Office Supplies|     Binders|DXL Angle-View Bi...|   Brosina Hoffman|   Consumer| 20|United States|    Los Angeles|    California|      90032|   West|\n",
      "|   BH-11710|OFF-AP-10002892|        10|CA-2014-115812|  6/9/2014| 6/14/2014|Standard Class|   114.9|       5|     0.0|   34.47|Office Supplies|  Appliances|Belkin F5C206VTEL...|   Brosina Hoffman|   Consumer| 20|United States|    Los Angeles|    California|      90032|   West|\n",
      "|   BH-11710|FUR-TA-10001539|        11|CA-2014-115812|  6/9/2014| 6/14/2014|Standard Class|1706.184|       9|     0.2| 85.3092|      Furniture|      Tables|Chromcraft Rectan...|   Brosina Hoffman|   Consumer| 20|United States|    Los Angeles|    California|      90032|   West|\n",
      "|   BH-11710|TEC-PH-10002033|        12|CA-2014-115812|  6/9/2014| 6/14/2014|Standard Class| 911.424|       4|     0.2| 68.3568|     Technology|      Phones|Konftel 250 Confe...|   Brosina Hoffman|   Consumer| 20|United States|    Los Angeles|    California|      90032|   West|\n",
      "|   AA-10480|OFF-PA-10002365|        13|CA-2017-114412| 4/15/2017| 4/20/2017|Standard Class|  15.552|       3|     0.2|  5.4432|Office Supplies|       Paper|          Xerox 1967|      Andrew Allen|   Consumer| 50|United States|        Concord|North Carolina|      28027|  South|\n",
      "|   IM-15070|OFF-BI-10003656|        14|CA-2016-161389| 12/5/2016|12/10/2016|Standard Class| 407.976|       3|     0.2|132.5922|Office Supplies|     Binders|Fellowes PB200 Pl...|      Irene Maddox|   Consumer| 66|United States|        Seattle|    Washington|      98103|   West|\n",
      "|   HP-14815|OFF-AP-10002311|        15|US-2015-118983|11/22/2015|11/26/2015|Standard Class|   68.81|       5|     0.8|-123.858|Office Supplies|  Appliances|Holmes Replacemen...|     Harold Pawlan|Home Office| 20|United States|     Fort Worth|         Texas|      76106|Central|\n",
      "|   HP-14815|OFF-BI-10000756|        16|US-2015-118983|11/22/2015|11/26/2015|Standard Class|   2.544|       3|     0.8|  -3.816|Office Supplies|     Binders|Storex DuraTech R...|     Harold Pawlan|Home Office| 20|United States|     Fort Worth|         Texas|      76106|Central|\n",
      "|   PK-19075|OFF-ST-10004186|        17|CA-2014-105893|11/11/2014|11/18/2014|Standard Class|  665.88|       6|     0.0| 13.3176|Office Supplies|     Storage|Stur-D-Stor Shelv...|         Pete Kriz|   Consumer| 46|United States|        Madison|     Wisconsin|      53711|Central|\n",
      "|   AG-10270|OFF-ST-10000107|        18|CA-2014-167164| 5/13/2014| 5/15/2014|  Second Class|    55.5|       2|     0.0|    9.99|Office Supplies|     Storage|Fellowes Super St...|   Alejandro Grove|   Consumer| 18|United States|    West Jordan|          Utah|      84084|   West|\n",
      "|   ZD-21925|OFF-AR-10003056|        19|CA-2014-143336| 8/27/2014|  9/1/2014|  Second Class|    8.56|       2|     0.0|  2.4824|Office Supplies|         Art|          Newell 341|Zuschuss Donatelli|   Consumer| 66|United States|  San Francisco|    California|      94109|   West|\n",
      "|   ZD-21925|TEC-PH-10001949|        20|CA-2014-143336| 8/27/2014|  9/1/2014|  Second Class|  213.48|       3|     0.2|  16.011|     Technology|      Phones|Cisco SPA 501G IP...|Zuschuss Donatelli|   Consumer| 66|United States|  San Francisco|    California|      94109|   West|\n",
      "+-----------+---------------+----------+--------------+----------+----------+--------------+--------+--------+--------+--------+---------------+------------+--------------------+------------------+-----------+---+-------------+---------------+--------------+-----------+-------+\n",
      "only showing top 20 rows\n",
      "\n"
     ]
    }
   ],
   "source": [
    "full_df.show()"
   ]
  },
  {
   "cell_type": "code",
   "execution_count": 9,
   "id": "a573b9e6-bfd6-4416-896f-966f77b96105",
   "metadata": {},
   "outputs": [
    {
     "name": "stdout",
     "output_type": "stream",
     "text": [
      "+---------------+-----------------+\n",
      "|       Category|       sum(Sales)|\n",
      "+---------------+-----------------+\n",
      "|Office Supplies|719047.0320000029|\n",
      "|      Furniture|741999.7952999998|\n",
      "|     Technology|836154.0329999966|\n",
      "+---------------+-----------------+\n",
      "\n"
     ]
    }
   ],
   "source": [
    "#Total Sales for Each Product Category\n",
    "full_df.groupBy(\"Category\").sum(\"Sales\").show()\n"
   ]
  },
  {
   "cell_type": "code",
   "execution_count": 10,
   "id": "d34600e4-89de-4c4f-8c71-8511c5184025",
   "metadata": {},
   "outputs": [
    {
     "name": "stdout",
     "output_type": "stream",
     "text": [
      "+-------------------+\n",
      "|      avg(Discount)|\n",
      "+-------------------+\n",
      "|0.15620272163298934|\n",
      "+-------------------+\n",
      "\n"
     ]
    }
   ],
   "source": [
    "#Average Discount Given Across All Products:\n",
    "full_df.agg({\"Discount\": \"avg\"}).show()\n"
   ]
  },
  {
   "cell_type": "code",
   "execution_count": 11,
   "id": "3ad04466-eb36-41c8-9219-09efa8fc731c",
   "metadata": {},
   "outputs": [
    {
     "name": "stdout",
     "output_type": "stream",
     "text": [
      "+-----------+-----+\n",
      "|Customer ID|count|\n",
      "+-----------+-----+\n",
      "|   WB-21850|   37|\n",
      "+-----------+-----+\n",
      "only showing top 1 row\n",
      "\n"
     ]
    }
   ],
   "source": [
    "#Customer with the Highest Number of Purchases\n",
    "full_df.groupBy(\"Customer ID\").count().orderBy(\"count\", ascending=False).show(1)\n"
   ]
  },
  {
   "cell_type": "code",
   "execution_count": 12,
   "id": "cd1fbd4d-52d7-4e73-a947-6451ba9d789f",
   "metadata": {},
   "outputs": [
    {
     "name": "stdout",
     "output_type": "stream",
     "text": [
      "+-------+-----------------+\n",
      "| Region|count(Product ID)|\n",
      "+-------+-----------------+\n",
      "|  South|             1626|\n",
      "|Central|             2371|\n",
      "|   East|             2762|\n",
      "|   West|             3235|\n",
      "+-------+-----------------+\n",
      "\n"
     ]
    }
   ],
   "source": [
    "#Unique Products Sold in Each Region\n",
    "full_df.groupBy(\"Region\").agg({\"Product ID\": \"count\"}).distinct().show()\n"
   ]
  },
  {
   "cell_type": "code",
   "execution_count": 13,
   "id": "36fa86f0-dbad-4aaf-825c-831c263d6435",
   "metadata": {},
   "outputs": [
    {
     "name": "stdout",
     "output_type": "stream",
     "text": [
      "+--------------------+------------------+\n",
      "|               State|       sum(Profit)|\n",
      "+--------------------+------------------+\n",
      "|                Utah|1818.1938000000005|\n",
      "|           Minnesota| 7202.522500000001|\n",
      "|                Ohio| 5985.887000000001|\n",
      "|              Oregon|234.04950000000014|\n",
      "|            Arkansas|          -62.9462|\n",
      "|               Texas| 20528.91100000002|\n",
      "|        Pennsylvania|13604.935000000007|\n",
      "|         Connecticut| 533.4986999999999|\n",
      "|            Nebraska|         1166.0176|\n",
      "|              Nevada|278.06780000000003|\n",
      "|          Washington|24405.796599999983|\n",
      "|            Illinois| 9560.145599999993|\n",
      "|            Oklahoma| 829.0181999999999|\n",
      "|District of Columbia|490.95669999999996|\n",
      "|            Delaware| 3336.382700000002|\n",
      "|          New Mexico|         1340.1399|\n",
      "|            Missouri|2212.8746999999994|\n",
      "|        Rhode Island|         2276.7013|\n",
      "|             Georgia|12781.342599999998|\n",
      "|            Michigan|7752.2969000000085|\n",
      "+--------------------+------------------+\n",
      "only showing top 20 rows\n",
      "\n"
     ]
    }
   ],
   "source": [
    "#Total Profit Generated in Each State\n",
    "full_df.groupBy(\"State\").sum(\"Profit\").show()\n"
   ]
  },
  {
   "cell_type": "code",
   "execution_count": 14,
   "id": "1a5db2b7-da38-4863-bd96-1e8e89640449",
   "metadata": {},
   "outputs": [
    {
     "name": "stdout",
     "output_type": "stream",
     "text": [
      "+------------+------------------+\n",
      "|Sub-Category|        sum(Sales)|\n",
      "+------------+------------------+\n",
      "|      Phones| 330007.0540000001|\n",
      "|      Chairs|328449.10300000076|\n",
      "|     Storage|223843.60800000012|\n",
      "|      Tables| 206965.5320000001|\n",
      "|     Binders| 203412.7330000001|\n",
      "|    Machines|189238.63099999996|\n",
      "| Accessories| 167380.3180000001|\n",
      "|     Copiers|149528.02999999994|\n",
      "|   Bookcases|114879.99629999997|\n",
      "|  Appliances|        107532.161|\n",
      "+------------+------------------+\n",
      "only showing top 10 rows\n",
      "\n"
     ]
    }
   ],
   "source": [
    "#Product Sub-Category with the Highest Sales\n",
    "full_df.groupBy(\"Sub-Category\").sum(\"Sales\").orderBy(\"sum(Sales)\", ascending=False).show(10)\n"
   ]
  },
  {
   "cell_type": "code",
   "execution_count": 15,
   "id": "2c5cbbe6-1281-4f7c-9ee9-c19ed620bd3e",
   "metadata": {},
   "outputs": [
    {
     "name": "stdout",
     "output_type": "stream",
     "text": [
      "+-----------+------------------+\n",
      "|    Segment|          avg(Age)|\n",
      "+-----------+------------------+\n",
      "|   Consumer| 44.60585628973223|\n",
      "|Home Office| 43.28210880538418|\n",
      "|  Corporate|44.816556291390725|\n",
      "+-----------+------------------+\n",
      "\n"
     ]
    }
   ],
   "source": [
    "#Average Age of Customers in Each Segment\n",
    "full_df.groupBy(\"Segment\").avg(\"Age\").show()\n"
   ]
  },
  {
   "cell_type": "code",
   "execution_count": 16,
   "id": "1178e249-79c2-4dad-83fc-f9a855ddafa0",
   "metadata": {},
   "outputs": [
    {
     "name": "stdout",
     "output_type": "stream",
     "text": [
      "+--------------+-----+\n",
      "|     Ship Mode|count|\n",
      "+--------------+-----+\n",
      "|   First Class| 1538|\n",
      "|      Same Day|  543|\n",
      "|  Second Class| 1945|\n",
      "|Standard Class| 5968|\n",
      "+--------------+-----+\n",
      "\n"
     ]
    }
   ],
   "source": [
    "#Orders Shipped in Each Shipping Mode\n",
    "full_df.groupBy(\"Ship Mode\").count().show()\n"
   ]
  },
  {
   "cell_type": "code",
   "execution_count": 17,
   "id": "16cd9840-dee3-4dc7-9d3f-cd49acc8397d",
   "metadata": {},
   "outputs": [
    {
     "name": "stdout",
     "output_type": "stream",
     "text": [
      "+---------------+-------------+\n",
      "|           City|sum(Quantity)|\n",
      "+---------------+-------------+\n",
      "|          Tyler|           22|\n",
      "|    Springfield|          282|\n",
      "|  Bowling Green|           89|\n",
      "|         Auburn|          214|\n",
      "|North Las Vegas|           29|\n",
      "|        Phoenix|          256|\n",
      "|  Lake Elsinore|           35|\n",
      "|         Monroe|          184|\n",
      "| Pembroke Pines|           48|\n",
      "|       Westland|           54|\n",
      "|    Lindenhurst|           42|\n",
      "|         Marion|           77|\n",
      "|          Omaha|           43|\n",
      "|   Fort Collins|           55|\n",
      "|        Everett|           24|\n",
      "|     Greensboro|           51|\n",
      "|       Franklin|          184|\n",
      "|   Lincoln Park|           28|\n",
      "|         Dallas|          602|\n",
      "|    Thomasville|           40|\n",
      "+---------------+-------------+\n",
      "only showing top 20 rows\n",
      "\n"
     ]
    }
   ],
   "source": [
    "#Total Quantity of Products Sold in Each City\n",
    "full_df.groupBy(\"City\").sum(\"Quantity\").show()"
   ]
  },
  {
   "cell_type": "code",
   "execution_count": 18,
   "id": "b2f818ec-c788-4729-a6d7-d52fa9616dbd",
   "metadata": {},
   "outputs": [
    {
     "name": "stdout",
     "output_type": "stream",
     "text": [
      "+--------+------------------+\n",
      "| Segment|       sum(Profit)|\n",
      "+--------+------------------+\n",
      "|Consumer|134119.20919999972|\n",
      "+--------+------------------+\n",
      "only showing top 1 row\n",
      "\n"
     ]
    }
   ],
   "source": [
    "#Customer Segment with the Highest Profit Margin:\n",
    "full_df.groupBy(\"Segment\").sum(\"Profit\").orderBy(\"sum(Profit)\", ascending=False).show(1)\n"
   ]
  },
  {
   "cell_type": "code",
   "execution_count": null,
   "id": "a45b4d00-12e4-4eed-ba20-0c134e7b7ec1",
   "metadata": {},
   "outputs": [],
   "source": []
  },
  {
   "cell_type": "code",
   "execution_count": null,
   "id": "b2792f92-92ce-47db-8a52-8fcc624a0f19",
   "metadata": {},
   "outputs": [],
   "source": []
  },
  {
   "cell_type": "code",
   "execution_count": null,
   "id": "3b7c7044-884f-48a1-aac0-50a422d583bc",
   "metadata": {},
   "outputs": [],
   "source": []
  }
 ],
 "metadata": {
  "kernelspec": {
   "display_name": "Python 3 (ipykernel)",
   "language": "python",
   "name": "python3"
  },
  "language_info": {
   "codemirror_mode": {
    "name": "ipython",
    "version": 3
   },
   "file_extension": ".py",
   "mimetype": "text/x-python",
   "name": "python",
   "nbconvert_exporter": "python",
   "pygments_lexer": "ipython3",
   "version": "3.12.4"
  }
 },
 "nbformat": 4,
 "nbformat_minor": 5
}
